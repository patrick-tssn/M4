{
 "cells": [
  {
   "cell_type": "code",
   "execution_count": 9,
   "metadata": {},
   "outputs": [
    {
     "name": "stderr",
     "output_type": "stream",
     "text": [
      "/home/patrick/anaconda3/envs/omini/lib/python3.10/site-packages/snac/snac.py:108: FutureWarning: You are using `torch.load` with `weights_only=False` (the current default value), which uses the default pickle module implicitly. It is possible to construct malicious pickle data which will execute arbitrary code during unpickling (See https://github.com/pytorch/pytorch/blob/main/SECURITY.md#untrusted-models for more details). In a future release, the default value for `weights_only` will be flipped to `True`. This limits the functions that could be executed during unpickling. Arbitrary objects will no longer be allowed to be loaded via this mode unless they are explicitly allowlisted by the user via `torch.serialization.add_safe_globals`. We recommend you start setting `weights_only=True` for any use case where you don't have full control of the loaded file. Please open an issue on GitHub for any issues related to this experimental feature.\n",
      "  state_dict = torch.load(model_path, map_location=\"cpu\")\n"
     ]
    },
    {
     "name": "stdout",
     "output_type": "stream",
     "text": [
      "16000\n",
      "torch.Size([1, 20])\n",
      "tensor(983, device='cuda:0')\n",
      "torch.Size([1, 40])\n",
      "tensor(1540, device='cuda:0')\n",
      "torch.Size([1, 80])\n",
      "tensor(356, device='cuda:0')\n",
      "torch.Size([1, 160])\n",
      "tensor(933, device='cuda:0')\n"
     ]
    }
   ],
   "source": [
    "import torch\n",
    "from snac import SNAC\n",
    "from audiotools import AudioSignal\n",
    "import torchaudio\n",
    "\n",
    "model = SNAC.from_pretrained(\"hubertsiuzdak/snac_32khz\").eval().cuda()\n",
    "# audio = torch.randn(1, 1, 32000).cuda()  # placeholder for actual audio with shape (B, 1, T)\n",
    "audio = AudioSignal('samples/output2.wav')\n",
    "# audio, sample_rate = torchaudio.load(\"data/samples/output2.wav\")\n",
    "sample_rate = audio.sample_rate\n",
    "print(sample_rate)\n",
    "audio = audio.audio_data\n",
    "# print(audio.shape, audio[0,0,-1000:])\n",
    "audio = audio.cuda()\n",
    "\n",
    "with torch.inference_mode():\n",
    "    codes = model.encode(audio)\n",
    "    audio_hat = model.decode(codes)\n",
    "\n",
    "for code in codes:\n",
    "    print(code.shape)\n",
    "    print(code[0,1])\n",
    "# print(audio_hat.shape)\n",
    "torchaudio.save(\"output2.wav\", audio_hat.squeeze(0).cpu(), sample_rate)"
   ]
  },
  {
   "cell_type": "code",
   "execution_count": 4,
   "metadata": {},
   "outputs": [
    {
     "name": "stdout",
     "output_type": "stream",
     "text": [
      "torch.Size([1, 52566])\n"
     ]
    }
   ],
   "source": [
    "import torchaudio\n",
    "\n",
    "waveform, sample_rate = torchaudio.load(\"data/samples/output2.wav\")\n",
    "print(waveform.shape)"
   ]
  },
  {
   "cell_type": "code",
   "execution_count": 1,
   "metadata": {},
   "outputs": [
    {
     "name": "stderr",
     "output_type": "stream",
     "text": [
      "/home/patrick/anaconda3/envs/omini/lib/python3.10/site-packages/audiotools/ml/layers/base.py:172: FutureWarning: You are using `torch.load` with `weights_only=False` (the current default value), which uses the default pickle module implicitly. It is possible to construct malicious pickle data which will execute arbitrary code during unpickling (See https://github.com/pytorch/pytorch/blob/main/SECURITY.md#untrusted-models for more details). In a future release, the default value for `weights_only` will be flipped to `True`. This limits the functions that could be executed during unpickling. Arbitrary objects will no longer be allowed to be loaded via this mode unless they are explicitly allowlisted by the user via `torch.serialization.add_safe_globals`. We recommend you start setting `weights_only=True` for any use case where you don't have full control of the loaded file. Please open an issue on GitHub for any issues related to this experimental feature.\n",
      "  model_dict = torch.load(location, \"cpu\")\n",
      "/home/patrick/anaconda3/envs/omini/lib/python3.10/site-packages/torch/nn/utils/weight_norm.py:134: FutureWarning: `torch.nn.utils.weight_norm` is deprecated in favor of `torch.nn.utils.parametrizations.weight_norm`.\n",
      "  WeightNorm.apply(module, name, dim)\n"
     ]
    },
    {
     "name": "stdout",
     "output_type": "stream",
     "text": [
      "torch.Size([1, 1, 52566])\n",
      "16000\n",
      "16000\n"
     ]
    },
    {
     "ename": "NameError",
     "evalue": "name 'torch' is not defined",
     "output_type": "error",
     "traceback": [
      "\u001b[0;31m---------------------------------------------------------------------------\u001b[0m",
      "\u001b[0;31mNameError\u001b[0m                                 Traceback (most recent call last)",
      "Cell \u001b[0;32mIn[1], line 24\u001b[0m\n\u001b[1;32m     21\u001b[0m \u001b[38;5;28mprint\u001b[39m(signal\u001b[38;5;241m.\u001b[39msample_rate)\n\u001b[1;32m     22\u001b[0m \u001b[38;5;28mprint\u001b[39m(model\u001b[38;5;241m.\u001b[39msample_rate)\n\u001b[0;32m---> 24\u001b[0m \u001b[38;5;28;01mwith\u001b[39;00m \u001b[43mtorch\u001b[49m\u001b[38;5;241m.\u001b[39mno_grad():\n\u001b[1;32m     25\u001b[0m     x \u001b[38;5;241m=\u001b[39m model\u001b[38;5;241m.\u001b[39mpreprocess(signal\u001b[38;5;241m.\u001b[39maudio_data, signal\u001b[38;5;241m.\u001b[39msample_rate)\n\u001b[1;32m     26\u001b[0m     z, codes, latents, _, _ \u001b[38;5;241m=\u001b[39m model\u001b[38;5;241m.\u001b[39mencode(x)\n",
      "\u001b[0;31mNameError\u001b[0m: name 'torch' is not defined"
     ]
    }
   ],
   "source": [
    "import torch\n",
    "import dac\n",
    "import torchaudio\n",
    "from audiotools import AudioSignal\n",
    "\n",
    "# Download a model\n",
    "# model_path = dac.utils.download(model_type=\"44khz\")\n",
    "# model_path = dac.utils.download(model_type=\"24khz\")\n",
    "model_path = dac.utils.download(model_type=\"16khz\")\n",
    "model = dac.DAC.load(model_path)\n",
    "\n",
    "model.to('cuda')\n",
    "\n",
    "# Load audio signal file\n",
    "signal = AudioSignal('data/samples/output2.wav', sample_rate=model.sample_rate)\n",
    "# signal = AudioSignal(\"data/samples/output1_24.wav\", sample_rate=model.sample_rate)\n",
    "print(signal.shape)\n",
    "\n",
    "# Encode audio signal as one long file\n",
    "# (may run out of GPU memory on long files)\n",
    "signal.to(model.device)\n",
    "print(signal.sample_rate)\n",
    "print(model.sample_rate)\n",
    "\n",
    "with torch.no_grad():\n",
    "    x = model.preprocess(signal.audio_data, signal.sample_rate)\n",
    "    z, codes, latents, _, _ = model.encode(x)\n",
    "\n",
    "    print(z.shape) # B D T\n",
    "    print(codes.shape) # B N T\n",
    "    print(latents.shape) # B N*D T\n",
    "\n",
    "    # Decode audio signal\n",
    "    y = model.decode(z)\n",
    "    print(y.shape)\n",
    "torchaudio.save(\"output2_dac.wav\", y.squeeze(0).cpu(), signal.sample_rate)\n",
    "\n",
    "# Alternatively, use the `compress` and `decompress` functions\n",
    "# to compress long files.\n",
    "\n",
    "signal = signal.cpu()\n",
    "x = model.compress(signal)\n",
    "\n",
    "print(x.codes.shape) # 1, 12, 340\n",
    "# print(x.shape)\n",
    "\n",
    "# # Save and load to and from disk\n",
    "# x.save(\"compressed.dac\")\n",
    "# x = dac.DACFile.load(\"compressed.dac\")\n",
    "\n",
    "# Decompress it back to an AudioSignal\n",
    "y = model.decompress(x)\n",
    "\n",
    "# Write to file\n",
    "y.write('output2-dac.wav')"
   ]
  },
  {
   "cell_type": "code",
   "execution_count": 18,
   "metadata": {},
   "outputs": [
    {
     "name": "stdout",
     "output_type": "stream",
     "text": [
      "torch.float32\n",
      "-0.6456473469734192\n",
      "0.6108736991882324\n",
      "48000\n"
     ]
    }
   ],
   "source": [
    "from audiotools import AudioSignal\n",
    "\n",
    "a = AudioSignal(\"data/samples/output1_24.wav\")\n",
    "\n",
    "print(a.audio_data.dtype)\n",
    "print(a.audio_data.min().item())\n",
    "print(a.audio_data.max().item())\n",
    "print(a.sample_rate)"
   ]
  },
  {
   "cell_type": "code",
   "execution_count": 2,
   "metadata": {},
   "outputs": [
    {
     "name": "stderr",
     "output_type": "stream",
     "text": [
      "/home/patrick/anaconda3/envs/omini/lib/python3.10/site-packages/tqdm/auto.py:21: TqdmWarning: IProgress not found. Please update jupyter and ipywidgets. See https://ipywidgets.readthedocs.io/en/stable/user_install.html\n",
      "  from .autonotebook import tqdm as notebook_tqdm\n"
     ]
    },
    {
     "name": "stdout",
     "output_type": "stream",
     "text": [
      "torch.Size([1, 8, 28])\n",
      "torch.Size([1, 1, 53760])\n"
     ]
    },
    {
     "data": {
      "text/plain": [
       "<audiotools.core.audio_signal.AudioSignal at 0x7fb0bf9d5150>"
      ]
     },
     "execution_count": 2,
     "metadata": {},
     "output_type": "execute_result"
    }
   ],
   "source": [
    "from huggingface_hub import hf_hub_download\n",
    "import torch\n",
    "import torchaudio\n",
    "from audiotools import AudioSignal\n",
    "\n",
    "from moshi.models import loaders, LMGen\n",
    "mimi_weight = hf_hub_download(loaders.DEFAULT_REPO, loaders.MIMI_NAME)\n",
    "mimi = loaders.get_mimi(mimi_weight, device='cuda')\n",
    "mimi.set_num_codebooks(8)  # up to 32 for mimi, but limited to 8 for moshi.\n",
    "\n",
    "audio = AudioSignal('data/samples/output2.wav')\n",
    "sample_rate, audio = audio.sample_rate, audio.audio_data # B, C, T -> 1, 1, T\n",
    "audio = audio.cuda()\n",
    "\n",
    "with torch.no_grad():\n",
    "    codes = mimi.encode(audio)\n",
    "    print(codes.shape)\n",
    "    decoded = mimi.decode(codes)\n",
    "    print(decoded.shape)\n",
    "\n",
    "# torchaudio.save(\"output2_mimi.wav\", decoded.squeeze(0).cpu(), sample_rate)\n",
    "audio_signal = AudioSignal(decoded.cpu(), sample_rate=sample_rate)\n",
    "audio_signal.write(\"output2_mimi_as.wav\")"
   ]
  },
  {
   "cell_type": "code",
   "execution_count": 3,
   "metadata": {},
   "outputs": [
    {
     "name": "stdout",
     "output_type": "stream",
     "text": [
      "torch.Size([52566])\n"
     ]
    }
   ],
   "source": [
    "import whisper\n",
    "import torch\n",
    "\n",
    "def load_whisper(speech_path, input_type=\"mel\", norm=True, mel_size=128):\n",
    "    speech = whisper.load_audio(speech_path)\n",
    "    if input_type == \"raw\":\n",
    "        speech = torch.from_numpy(speech)\n",
    "        if norm:\n",
    "            speech = torch.nn.functional.layer_norm(speech, speech.shape)\n",
    "    elif input_type == \"mel\":\n",
    "        speech = whisper.pad_or_trim(speech)\n",
    "        speech = whisper.log_mel_spectrogram(speech, n_mels=mel_size).permute(1, 0)\n",
    "    \n",
    "    return speech\n",
    "        \n",
    "speech = load_whisper(\"samples/output2.wav\", input_type=\"raw\")\n",
    "print(speech.shape)"
   ]
  }
 ],
 "metadata": {
  "kernelspec": {
   "display_name": "omini",
   "language": "python",
   "name": "python3"
  },
  "language_info": {
   "codemirror_mode": {
    "name": "ipython",
    "version": 3
   },
   "file_extension": ".py",
   "mimetype": "text/x-python",
   "name": "python",
   "nbconvert_exporter": "python",
   "pygments_lexer": "ipython3",
   "version": "3.10.14"
  }
 },
 "nbformat": 4,
 "nbformat_minor": 2
}
